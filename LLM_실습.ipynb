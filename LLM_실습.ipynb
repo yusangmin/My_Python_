{
  "cells": [
    {
      "cell_type": "markdown",
      "metadata": {
        "id": "view-in-github",
        "colab_type": "text"
      },
      "source": [
        "<a href=\"https://colab.research.google.com/github/yusangmin/My_Python_/blob/main/LLM_%EC%8B%A4%EC%8A%B5.ipynb\" target=\"_parent\"><img src=\"https://colab.research.google.com/assets/colab-badge.svg\" alt=\"Open In Colab\"/></a>"
      ]
    },
    {
      "cell_type": "markdown",
      "source": [
        "### 필수 라이브러리 설치 및 로드하기(+ API KEY 설정)"
      ],
      "metadata": {
        "id": "uj_V71IfvFNB"
      }
    },
    {
      "cell_type": "code",
      "source": [
        "!pip install langchain\n",
        "!pip install openai"
      ],
      "metadata": {
        "id": "p59qdp_kk8M6"
      },
      "execution_count": null,
      "outputs": []
    },
    {
      "cell_type": "code",
      "execution_count": null,
      "metadata": {
        "id": "Z-CRiU8tdrdX"
      },
      "outputs": [],
      "source": [
        "#API KEY 저장을 위한 os 라이브러리 호출\n",
        "import os\n",
        "\n",
        "#OPENAI API키 저장\n",
        "#API KEY 발급 페이지: https://platform.openai.com/docs/guides/gpt/completions-api\n",
        "os.environ[\"OPENAI_API_KEY\"] = 'YOUR_API_KEY'"
      ]
    },
    {
      "cell_type": "markdown",
      "source": [
        "### (1) API를 통해 GPT-3, ChatGPT와 대화해보기"
      ],
      "metadata": {
        "id": "3_671qNBu7El"
      }
    },
    {
      "cell_type": "code",
      "source": [
        "from langchain.llms import OpenAI\n",
        "\n",
        "davinch3 = OpenAI(model_name=\"text-davinci-003\")\n",
        "davinch3.predict('why python is the most popular language? answer in Korean')"
      ],
      "metadata": {
        "id": "AlhiOh4wlBNB"
      },
      "execution_count": null,
      "outputs": []
    },
    {
      "cell_type": "markdown",
      "source": [
        "ChatGPT API는 기본 OpenAI LLM들과 다른 Input 형식을 갖고 있습니다.\n",
        "\n",
        "ChatGPT는 대화에 특화된 LLM인만큼, 아래와 같은 2가지 독특한 매개변수를 지닙니다.\n",
        "\n",
        "---\n",
        "\n",
        "(1) SystemMessage: ChatGPT에게 역할을 부여하여, 대화의 맥락을 설정하는 메세지\n",
        "\n",
        "(2) HumanMessage: 사용자가 ChatGPT에게 대화 또는 요청을 위해 보내는 메세지\n",
        "\n",
        "위 두가지 형식을 적절히 활용하면, LLM을 더욱 효과적으로 사용할 수 있습니다."
      ],
      "metadata": {
        "id": "loZhVXkoDOyd"
      }
    },
    {
      "cell_type": "code",
      "source": [
        "from langchain.chat_models import ChatOpenAI\n",
        "\n",
        "chatgpt = ChatOpenAI(model_name=\"gpt-3.5-turbo\")\n",
        "answer = chatgpt.predict(\"why python is the most popular language? answer in Korean\")\n",
        "print(answer)"
      ],
      "metadata": {
        "id": "lNpEGFZRvUSc"
      },
      "execution_count": null,
      "outputs": []
    },
    {
      "cell_type": "markdown",
      "source": [
        "### (2) 매개변수 조절해보기"
      ],
      "metadata": {
        "id": "c8SCTlM8RwXJ"
      }
    },
    {
      "cell_type": "code",
      "source": [
        "chatgpt = ChatOpenAI(model_name=\"gpt-3.5-turbo\", temperature = 0)\n",
        "answer = chatgpt.predict(\"why python is the most popular language? answer in Korean\")\n",
        "print(answer)"
      ],
      "metadata": {
        "id": "MAVXlKhME4Ri"
      },
      "execution_count": null,
      "outputs": []
    },
    {
      "cell_type": "code",
      "source": [
        "chatgpt = ChatOpenAI(model_name=\"gpt-3.5-turbo\", temperature = 0)\n",
        "answer = chatgpt.predict(\"why python is the most popular language? answer in Korean\")\n",
        "print(answer)"
      ],
      "metadata": {
        "id": "71US9jWev90F"
      },
      "execution_count": null,
      "outputs": []
    },
    {
      "cell_type": "code",
      "source": [
        "chatgpt = ChatOpenAI(model_name=\"gpt-3.5-turbo\", temperature = 1)\n",
        "answer = chatgpt.predict(\"why python is the most popular language? answer in Korean\")\n",
        "print(answer)"
      ],
      "metadata": {
        "id": "J_TJA7XfHV6Q"
      },
      "execution_count": null,
      "outputs": []
    },
    {
      "cell_type": "code",
      "source": [
        "chatgpt = ChatOpenAI(model_name=\"gpt-3.5-turbo\", temperature = 1)\n",
        "answer = chatgpt.predict(\"why python is the most popular language? answer in Korean\")\n",
        "print(answer)"
      ],
      "metadata": {
        "id": "0J4qOoxMwN9f"
      },
      "execution_count": null,
      "outputs": []
    },
    {
      "cell_type": "code",
      "source": [],
      "metadata": {
        "id": "TeM0Sj7ZwORD"
      },
      "execution_count": null,
      "outputs": []
    },
    {
      "cell_type": "code",
      "source": [
        "from langchain.callbacks.streaming_stdout import StreamingStdOutCallbackHandler\n",
        "\n",
        "chatgpt = ChatOpenAI(model_name=\"gpt-3.5-turbo\", streaming=True, callbacks=[StreamingStdOutCallbackHandler()], temperature = 1)\n",
        "answer = chatgpt.predict(\"why python is the most popular language? answer in Korean\")"
      ],
      "metadata": {
        "id": "cpYBDyOYIeS9"
      },
      "execution_count": null,
      "outputs": []
    },
    {
      "cell_type": "code",
      "source": [
        "from langchain.chat_models import ChatOpenAI\n",
        "from langchain.schema import AIMessage, HumanMessage, SystemMessage\n",
        "\n",
        "chatgpt = ChatOpenAI(model_name=\"gpt-3.5-turbo\", temperature = 0)\n",
        "\n",
        "messages = [\n",
        "    SystemMessage(\n",
        "        content=\"You are a helpful assistant that translates English to Korean.\"\n",
        "    ),\n",
        "    HumanMessage(\n",
        "        content=\"I love langchain.\"\n",
        "    ),\n",
        "]\n",
        "response_langchain = chatgpt(messages)\n",
        "response_langchain"
      ],
      "metadata": {
        "id": "uNdmV96n0h15"
      },
      "execution_count": null,
      "outputs": []
    },
    {
      "cell_type": "code",
      "source": [
        "response_langchain.content"
      ],
      "metadata": {
        "id": "BQSk17Yk2sCe"
      },
      "execution_count": null,
      "outputs": []
    },
    {
      "cell_type": "markdown",
      "source": [
        "### (3) 실습해보기"
      ],
      "metadata": {
        "id": "zFoFB7OyNcY9"
      }
    },
    {
      "cell_type": "code",
      "source": [
        "from langchain.chat_models import ChatOpenAI\n",
        "from langchain.schema import HumanMessage, SystemMessage, AIMessage\n",
        "\n",
        "chat = ChatOpenAI(temperature = 1, streaming=True, callbacks=[StreamingStdOutCallbackHandler()])\n",
        "answer = chat(\n",
        "  [\n",
        "    SystemMessage(content=\"당신은 공부 계획을 세워주는 스터디 플래너 머신입니다. 사용자의 공부 주제를 입력 받으면, 이를 학습하기 위한 공부 계획을 작성합니다.\"),\n",
        "    HumanMessage(content=\"Large Language Model에 대해서 공부하고 싶어요.\")\n",
        "  ]\n",
        ")\n"
      ],
      "metadata": {
        "id": "WGoz4nPsKfpi"
      },
      "execution_count": null,
      "outputs": []
    },
    {
      "cell_type": "code",
      "source": [
        "#ChatGPT의 대답은 AIMessage라는 딕셔너리 형태로 제공됩니다.\n",
        "answer"
      ],
      "metadata": {
        "id": "8XmwfLtPOy0Q"
      },
      "execution_count": null,
      "outputs": []
    },
    {
      "cell_type": "code",
      "source": [
        "#content를 key값으로 호출하여 를 통해 text만 출력할 수 있습니다.\n",
        "print(answer.content)"
      ],
      "metadata": {
        "id": "fanlIkSXK7zF"
      },
      "execution_count": null,
      "outputs": []
    },
    {
      "cell_type": "code",
      "source": [],
      "metadata": {
        "id": "I8p2I58nPpxN"
      },
      "execution_count": null,
      "outputs": []
    }
  ],
  "metadata": {
    "colab": {
      "provenance": [],
      "include_colab_link": true
    },
    "kernelspec": {
      "display_name": "Python 3",
      "name": "python3"
    },
    "language_info": {
      "name": "python"
    }
  },
  "nbformat": 4,
  "nbformat_minor": 0
}