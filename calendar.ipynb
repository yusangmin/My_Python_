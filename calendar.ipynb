{
  "nbformat": 4,
  "nbformat_minor": 0,
  "metadata": {
    "colab": {
      "provenance": [],
      "authorship_tag": "ABX9TyOspKY8ho7SdDXp40CCasZw",
      "include_colab_link": true
    },
    "kernelspec": {
      "name": "python3",
      "display_name": "Python 3"
    },
    "language_info": {
      "name": "python"
    }
  },
  "cells": [
    {
      "cell_type": "markdown",
      "metadata": {
        "id": "view-in-github",
        "colab_type": "text"
      },
      "source": [
        "<a href=\"https://colab.research.google.com/github/yusangmin/My_Python_/blob/main/calendar.ipynb\" target=\"_parent\"><img src=\"https://colab.research.google.com/assets/colab-badge.svg\" alt=\"Open In Colab\"/></a>"
      ]
    },
    {
      "cell_type": "code",
      "execution_count": 2,
      "metadata": {
        "colab": {
          "base_uri": "https://localhost:8080/"
        },
        "id": "i5r5Na8s9zCE",
        "outputId": "8c421c9f-e436-4acf-9600-f0505ad6808b"
      },
      "outputs": [
        {
          "output_type": "stream",
          "name": "stdout",
          "text": [
            "    October 2023\n",
            "Mo Tu We Th Fr Sa Su\n",
            "                   1\n",
            " 2  3  4  5  6  7  8\n",
            " 9 10 11 12 13 14 15\n",
            "16 17 18 19 20 21 22\n",
            "23 24 25 26 27 28 29\n",
            "30 31\n",
            "\n"
          ]
        }
      ],
      "source": [
        "import calendar\n",
        "yy = 2023     # Year\n",
        "mm = 10       # month\n",
        "# display the calendar\n",
        "print(calendar.month(yy,mm))"
      ]
    }
  ]
}