{
  "nbformat": 4,
  "nbformat_minor": 0,
  "metadata": {
    "colab": {
      "provenance": [],
      "authorship_tag": "ABX9TyM77hwRz84GRmSHodRx+q39",
      "include_colab_link": true
    },
    "kernelspec": {
      "name": "python3",
      "display_name": "Python 3"
    },
    "language_info": {
      "name": "python"
    }
  },
  "cells": [
    {
      "cell_type": "markdown",
      "metadata": {
        "id": "view-in-github",
        "colab_type": "text"
      },
      "source": [
        "<a href=\"https://colab.research.google.com/github/yusangmin/My_Python_/blob/main/CTB_7_1.ipynb\" target=\"_parent\"><img src=\"https://colab.research.google.com/assets/colab-badge.svg\" alt=\"Open In Colab\"/></a>"
      ]
    },
    {
      "cell_type": "markdown",
      "source": [
        "1. 점수 10개 받아 평균내는 코드 작성\n"
      ],
      "metadata": {
        "id": "NjE8Kz-YmjM8"
      }
    },
    {
      "cell_type": "code",
      "execution_count": null,
      "metadata": {
        "id": "t9_rt2twmUJu"
      },
      "outputs": [],
      "source": [
        "total = 0\n",
        "counter = 1\n",
        "while counter <= 10:\n",
        "  grade = int(input(\"점수를 10개 입력하시오.: \"))\n",
        "  total = total + 1\n",
        "  counter = counter + 1\n",
        "average = total /10\n",
        "print(average)"
      ]
    },
    {
      "cell_type": "markdown",
      "source": [
        "2. 3개의 입력을 받아 변수에 저장했다가 1씩 증가한 후 화면에 출력"
      ],
      "metadata": {
        "id": "cP9r16ldnqjY"
      }
    },
    {
      "cell_type": "code",
      "source": [
        "print(\"3개의 값을 입력하시오.\")\n",
        "x = int(input(\"x의 값을 입력하시오.: \"))\n",
        "y = int(input(\"y의 값을 입력하시오.: \"))\n",
        "z = int(input(\"z의 값을 입력하시오.: \"))\n",
        "x = x + 1\n",
        "y = y + 1\n",
        "z = z + 1\n",
        "\n",
        "pritn(\"변경된 값: \", x, y, z)"
      ],
      "metadata": {
        "id": "lY1prDIpoCw-"
      },
      "execution_count": null,
      "outputs": []
    },
    {
      "cell_type": "markdown",
      "source": [
        "3. 일한 시간과 시급을 곱하여 급여계산하기"
      ],
      "metadata": {
        "id": "avhXyvsdowiA"
      }
    },
    {
      "cell_type": "code",
      "source": [
        "a = 10\n",
        "b = 9620\n",
        "c = a * b\n",
        "print(c)"
      ],
      "metadata": {
        "colab": {
          "base_uri": "https://localhost:8080/"
        },
        "id": "tjPNVFPRo6ZJ",
        "outputId": "016457ff-6637-485c-b4f4-8c19af917ac7"
      },
      "execution_count": 5,
      "outputs": [
        {
          "output_type": "stream",
          "name": "stdout",
          "text": [
            "96200\n"
          ]
        }
      ]
    },
    {
      "cell_type": "code",
      "source": [
        "hours_worked = int(input(\"일한 시간을 입력하시오.: \"))\n",
        "pay_rate = int(input(\"시급을 입력하시오.(23년 시급 9620원) : \"))\n",
        "monthly_pay = hours_worked * pay_rate\n",
        "print(monthly_pay)"
      ],
      "metadata": {
        "colab": {
          "base_uri": "https://localhost:8080/"
        },
        "id": "mmRJvNzgpC2_",
        "outputId": "2b8dc347-e835-42d1-cff5-799620d1d941"
      },
      "execution_count": 6,
      "outputs": [
        {
          "output_type": "stream",
          "name": "stdout",
          "text": [
            "일한 시간을 입력하시오.: 10\n",
            "시급을 입력하시오.: 9620\n",
            "96200\n"
          ]
        }
      ]
    },
    {
      "cell_type": "markdown",
      "source": [
        "4. 환율 계산 코드"
      ],
      "metadata": {
        "id": "gIdfsH8TqcTd"
      }
    },
    {
      "cell_type": "code",
      "source": [
        "won = 1\n",
        "usd = won * 1349\n",
        "print(usd)"
      ],
      "metadata": {
        "colab": {
          "base_uri": "https://localhost:8080/"
        },
        "id": "k8tJrComqi8H",
        "outputId": "68645c32-dd8d-4fde-ab0e-b81290aed779"
      },
      "execution_count": 8,
      "outputs": [
        {
          "output_type": "stream",
          "name": "stdout",
          "text": [
            "1349\n"
          ]
        }
      ]
    },
    {
      "cell_type": "code",
      "source": [
        "won = int(input(\"환전할 급액을 입력(kor): \"))\n",
        "usd = int(input(\"오늘 달러의 환율을 급액(231031: 1372): \"))\n",
        "exchange = won * usd\n",
        "print(exchange)"
      ],
      "metadata": {
        "colab": {
          "base_uri": "https://localhost:8080/"
        },
        "id": "3MSTuExnrI-P",
        "outputId": "83c6540f-e54b-41e3-b772-06918c282ab3"
      },
      "execution_count": 10,
      "outputs": [
        {
          "output_type": "stream",
          "name": "stdout",
          "text": [
            "환전할 급액을 입력(kor): 10\n",
            "오늘 달러의 금액을 입력(231031: 1372): 1372\n",
            "13720\n"
          ]
        }
      ]
    },
    {
      "cell_type": "markdown",
      "source": [
        "5. 화씨fahrenheit[fǽrənhàit]를 섭씨 celsius[sélsiəs]온도로 변경하는 코드(반대로도)\n",
        " - 섭씨에서 화씨로 온도 변환 : ℉ = ℃ * 1.8 + 32\n",
        " - 화씨에서 섭씨로 온도 변환 : ℃ = (℉ -32) / 1.8"
      ],
      "metadata": {
        "id": "gRHBG1g5sXst"
      }
    },
    {
      "cell_type": "code",
      "source": [
        "fahrenheit = int(input('화씨온도를 입력하시오: ')) # 화씨(fahrenheit) 온도 입력\n",
        "celsius = (fahrenheit - 32) / 1.8                  # 화씨 온도를 섭씨(celsius) 온도로 변환\n",
        "print(f'화씨온도 {fahrenheit}는 섭씨온도{celsius} 입니다.') # 섭씨 변환된 온도 출력"
      ],
      "metadata": {
        "colab": {
          "base_uri": "https://localhost:8080/"
        },
        "id": "kp8n9DPDzrM3",
        "outputId": "872fba22-d373-4264-f693-c1307da1b58c"
      },
      "execution_count": 22,
      "outputs": [
        {
          "output_type": "stream",
          "name": "stdout",
          "text": [
            "화씨온도를 입력하시오: 98\n",
            "화씨온도 98는 섭씨온도36.666666666666664 입니다.\n"
          ]
        }
      ]
    },
    {
      "cell_type": "code",
      "source": [
        "celsius = int(input('섭씨 온도를 입력하세요 : ')) # 섭씨(celsius) 온도 입력\n",
        "fahrenheit = (celsius * 1.8) + 32                 # 섭씨 온도를 화씨(fahrenheit) 온도 변환\n",
        "print(f'섭씨 온도 {celsius}는 화씨 온도로 {fahrenheit} 입니다.') # 화씨 변환된 온도 출력"
      ],
      "metadata": {
        "colab": {
          "base_uri": "https://localhost:8080/"
        },
        "id": "zejIykUTynv5",
        "outputId": "d3c03381-c02e-46e5-d1b1-5abc4b21b2b6"
      },
      "execution_count": 21,
      "outputs": [
        {
          "output_type": "stream",
          "name": "stdout",
          "text": [
            "섭씨 온도를 입력하세요 : 37\n",
            "섭씨 온도 37는 화씨 온도로 98.60000000000001 입니다.\n"
          ]
        }
      ]
    }
  ]
}